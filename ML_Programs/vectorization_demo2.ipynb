{
 "cells": [
  {
   "cell_type": "code",
   "execution_count": 1,
   "metadata": {},
   "outputs": [
    {
     "name": "stdout",
     "output_type": "stream",
     "text": [
      "[-1.97660667  0.68846277 -0.95031482 -0.08747191 -0.27027288]\n"
     ]
    }
   ],
   "source": [
    "import numpy as np\n",
    "\n",
    "a = np.random.randn(5)\n",
    "print(a)\n",
    "\n"
   ]
  },
  {
   "cell_type": "code",
   "execution_count": 2,
   "metadata": {},
   "outputs": [
    {
     "name": "stdout",
     "output_type": "stream",
     "text": [
      "(5,)\n"
     ]
    }
   ],
   "source": [
    "print(a.shape)"
   ]
  },
  {
   "cell_type": "code",
   "execution_count": 3,
   "metadata": {},
   "outputs": [
    {
     "name": "stdout",
     "output_type": "stream",
     "text": [
      "[-1.97660667  0.68846277 -0.95031482 -0.08747191 -0.27027288]\n"
     ]
    }
   ],
   "source": [
    "print(a.T)"
   ]
  },
  {
   "cell_type": "code",
   "execution_count": 4,
   "metadata": {},
   "outputs": [
    {
     "name": "stdout",
     "output_type": "stream",
     "text": [
      "5.364751921412212\n"
     ]
    }
   ],
   "source": [
    "print(np.dot(a,a.T))"
   ]
  },
  {
   "cell_type": "code",
   "execution_count": 5,
   "metadata": {},
   "outputs": [
    {
     "name": "stdout",
     "output_type": "stream",
     "text": [
      "[[-0.99383588]\n",
      " [ 0.21938744]\n",
      " [ 1.2352735 ]\n",
      " [-0.30623981]\n",
      " [ 1.29085981]]\n"
     ]
    }
   ],
   "source": [
    "a=np.random.randn(5,1)\n",
    "print(a)"
   ]
  },
  {
   "cell_type": "code",
   "execution_count": 6,
   "metadata": {},
   "outputs": [
    {
     "name": "stdout",
     "output_type": "stream",
     "text": [
      "[[-0.99383588  0.21938744  1.2352735  -0.30623981  1.29085981]]\n"
     ]
    }
   ],
   "source": [
    "print(a.T)"
   ]
  },
  {
   "cell_type": "code",
   "execution_count": 8,
   "metadata": {},
   "outputs": [
    {
     "name": "stdout",
     "output_type": "stream",
     "text": [
      "[[ 0.98770975 -0.21803511 -1.22765912  0.30435211 -1.28290279]\n",
      " [-0.21803511  0.04813085  0.27100349 -0.06718517  0.28319843]\n",
      " [-1.22765912  0.27100349  1.52590062 -0.37828992  1.59456491]\n",
      " [ 0.30435211 -0.06718517 -0.37828992  0.09378282 -0.39531266]\n",
      " [-1.28290279  0.28319843  1.59456491 -0.39531266  1.66631905]]\n"
     ]
    }
   ],
   "source": [
    "print(np.dot(a,a.T))"
   ]
  },
  {
   "cell_type": "code",
   "execution_count": 13,
   "metadata": {},
   "outputs": [
    {
     "name": "stdout",
     "output_type": "stream",
     "text": [
      "[[3 2 3 3]\n",
      " [2 4 3 4]\n",
      " [0 4 1 3]]\n",
      "[[3]\n",
      " [1]\n",
      " [2]\n",
      " [2]]\n",
      "[[6 3 5 5]\n",
      " [5 5 5 6]\n",
      " [3 5 3 5]]\n"
     ]
    }
   ],
   "source": [
    "a = np.random.randint(5, size=(3, 4))\n",
    "b = np.random.randint(5, size=(4, 1))\n",
    "c = np.random.randint(5, size=(3, 4))\n",
    "print(a)\n",
    "print(b)\n",
    "for i in range(3):\n",
    "    for j in range(4):\n",
    "        c[i][j] = a[i][j] + b[j]\n",
    "print(c)   "
   ]
  },
  {
   "cell_type": "code",
   "execution_count": 17,
   "metadata": {},
   "outputs": [
    {
     "name": "stdout",
     "output_type": "stream",
     "text": [
      "[[6 3 5 5]\n",
      " [5 5 5 6]\n",
      " [3 5 3 5]]\n"
     ]
    }
   ],
   "source": [
    "c=a+b.T\n",
    "\n",
    "print(c)"
   ]
  },
  {
   "cell_type": "code",
   "execution_count": null,
   "metadata": {},
   "outputs": [],
   "source": []
  }
 ],
 "metadata": {
  "kernelspec": {
   "display_name": "Python 3",
   "language": "python",
   "name": "python3"
  },
  "language_info": {
   "codemirror_mode": {
    "name": "ipython",
    "version": 3
   },
   "file_extension": ".py",
   "mimetype": "text/x-python",
   "name": "python",
   "nbconvert_exporter": "python",
   "pygments_lexer": "ipython3",
   "version": "3.6.5"
  }
 },
 "nbformat": 4,
 "nbformat_minor": 2
}
